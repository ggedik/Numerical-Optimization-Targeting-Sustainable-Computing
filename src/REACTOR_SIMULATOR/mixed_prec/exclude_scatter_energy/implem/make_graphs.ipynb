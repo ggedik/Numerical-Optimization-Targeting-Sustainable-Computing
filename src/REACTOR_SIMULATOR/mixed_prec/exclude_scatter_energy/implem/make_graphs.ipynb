{
 "cells": [
  {
   "cell_type": "code",
   "execution_count": 1,
   "metadata": {},
   "outputs": [],
   "source": [
    "import numpy as np \n",
    "import matplotlib.pyplot as plt\n"
   ]
  },
  {
   "cell_type": "code",
   "execution_count": 2,
   "metadata": {},
   "outputs": [],
   "source": [
    "x_axis = np.arange(10000,110000,10000)"
   ]
  },
  {
   "cell_type": "code",
   "execution_count": 4,
   "metadata": {},
   "outputs": [],
   "source": [
    "agg_og =[]\n",
    "agg_vc =[]\n",
    "agg_my = []\n",
    "for elm in x_axis: \n",
    " \n",
    "    output_OG = f\"/home/ggedik/internship/REACTOR/REACTOR-CPP/mixed_prec/mixed_prec/all_float/nb_elements/RS_double_elm{elm}.txt\"\n",
    "    data_OG = np.loadtxt(output_OG, delimiter=';', max_rows=1400)\n",
    "    origin_energy_OG = data_OG[-1].astype(np.float64)\n",
    "    agg_og.append(origin_energy_OG)\n",
    "\n",
    "    # output_VC = f\"value_prec23_elm{elm}.txt\"\n",
    "    # data_VC = np.loadtxt(output_VC, delimiter=';', max_rows=1400)\n",
    "    # origin_energy_VC = data_VC[-1].astype(np.float64)\n",
    "    # agg_vc.append(origin_energy_VC)\n",
    "\n",
    "    output_MY = f\"RS_exc_scatter_energy_prec23_elm{elm}.txt\"\n",
    "    data_MY = np.loadtxt(output_MY, delimiter=';', skiprows=1, max_rows=1400)[1:]\n",
    "    origin_energy_MY = data_MY[-1].astype(np.float64)\n",
    "    agg_my.append(origin_energy_MY)"
   ]
  },
  {
   "cell_type": "code",
   "execution_count": 5,
   "metadata": {},
   "outputs": [],
   "source": [
    "# plt.plot(x_axis, agg_og)\n",
    "# plt.plot(x_axis, agg_vc)\n",
    "# plt.plot(x_axis, agg_my)\n",
    "# plt.yscale('log')"
   ]
  },
  {
   "cell_type": "code",
   "execution_count": null,
   "metadata": {},
   "outputs": [],
   "source": [
    "print(agg_og)\n",
    "print(agg_my)\n",
    "#plt.plot(x_axis, agg_og)\n",
    "#plt.plot(x_axis, np.abs(np.array(agg_og) - np.array(agg_vc))/ np.abs(agg_og), label = 'VFC')\n",
    "plt.plot(x_axis,agg_og , label = \"Double Prec\")\n",
    "plt.plot(x_axis, agg_my, label = \"Mixed Prec\")\n",
    "# plt.plot(x_axis, np.abs(np.array(agg_og) - np.array(agg_my))/ np.abs(agg_og), label = 'Mixed Prec')\n",
    "# plt.ylabel(r\"$\\log_{10}{Error}$\")\n",
    "\n",
    "plt.xlabel('Number of Elements')\n",
    "plt.title('Evolution of Total Energy Through Number of Elements')\n",
    "plt.legend()\n",
    "plt.savefig('reactor_v3_difference.png')"
   ]
  },
  {
   "cell_type": "code",
   "execution_count": null,
   "metadata": {},
   "outputs": [],
   "source": [
    "print(agg_og)\n",
    "print(agg_my)\n",
    "#plt.plot(x_axis, agg_og)\n",
    "#plt.plot(x_axis, np.abs(np.array(agg_og) - np.array(agg_vc))/ np.abs(agg_og), label = 'VFC')\n",
    "# plt.plot(x_axis,agg_og , label = \"Double Prec\")\n",
    "# plt.plot(x_axis, agg_my, label = \"Mixed Prec\")\n",
    "plt.plot(x_axis, np.abs(np.array(agg_og) - np.array(agg_my))/ np.abs(agg_og))\n",
    "plt.ylabel(r\"${Error}$\")\n",
    "\n",
    "plt.xlabel('Number of Elements')\n",
    "plt.title('Relative Forward Error on Total Energy Through Number of Elements')\n",
    "\n",
    "plt.legend()\n",
    "plt.savefig('reactor_v3_difference_err.png')"
   ]
  },
  {
   "cell_type": "code",
   "execution_count": null,
   "metadata": {},
   "outputs": [],
   "source": []
  }
 ],
 "metadata": {
  "kernelspec": {
   "display_name": "Python 3",
   "language": "python",
   "name": "python3"
  },
  "language_info": {
   "codemirror_mode": {
    "name": "ipython",
    "version": 3
   },
   "file_extension": ".py",
   "mimetype": "text/x-python",
   "name": "python",
   "nbconvert_exporter": "python",
   "pygments_lexer": "ipython3",
   "version": "3.10.12"
  }
 },
 "nbformat": 4,
 "nbformat_minor": 2
}
