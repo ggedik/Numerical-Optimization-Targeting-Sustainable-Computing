{
 "cells": [
  {
   "cell_type": "code",
   "execution_count": 1,
   "metadata": {},
   "outputs": [],
   "source": [
    "import numpy as np \n",
    "import matplotlib.pyplot as plt\n"
   ]
  },
  {
   "cell_type": "code",
   "execution_count": 2,
   "metadata": {},
   "outputs": [],
   "source": [
    "x_axis = np.arange(10000,110000,10000)"
   ]
  },
  {
   "cell_type": "code",
   "execution_count": 8,
   "metadata": {},
   "outputs": [],
   "source": [
    "agg_og =[]\n",
    "agg_vc =[]\n",
    "agg_my = []\n",
    "for elm in x_axis: \n",
    " \n",
    "    output_OG = f\"RS_double_{elm}.txt\"\n",
    "    data_OG = np.loadtxt(output_OG, delimiter=';')\n",
    "    origin_energy_OG = data_OG[-1].astype(np.float64)\n",
    "    agg_og.append(origin_energy_OG)\n",
    "\n",
    "    output_VC = f\"/home/ggedik/internship/REACTOR/needed/RS_prec23_elm{elm}.txt\"\n",
    "    data_VC = np.loadtxt(output_VC, delimiter=';')\n",
    "    origin_energy_VC = data_VC[-1].astype(np.float64)\n",
    "    agg_vc.append(origin_energy_VC)\n",
    "\n",
    "    output_MY = f\"RS_v3_elm{elm}.txt\"\n",
    "    data_MY = np.loadtxt(output_MY, delimiter=';', skiprows=1)\n",
    "    origin_energy_MY = data_MY[-1].astype(np.float64)\n",
    "    agg_my.append(origin_energy_MY)"
   ]
  },
  {
   "cell_type": "code",
   "execution_count": 9,
   "metadata": {},
   "outputs": [],
   "source": [
    "# plt.plot(x_axis, agg_og)\n",
    "# plt.plot(x_axis, agg_vc)\n",
    "# plt.plot(x_axis, agg_my)\n",
    "# plt.yscale('log')"
   ]
  },
  {
   "cell_type": "code",
   "execution_count": null,
   "metadata": {},
   "outputs": [],
   "source": [
    "#plt.plot(x_axis, agg_og)\n",
    "plt.plot(x_axis, np.abs(np.array(agg_og) - np.array(agg_vc))/ np.abs(agg_og), label = 'VPREC')\n",
    "plt.plot(x_axis, np.abs(np.array(agg_og) - np.array(agg_my))/ np.abs(agg_og), label = 'Mixed Prec')\n",
    "plt.yscale('log')\n",
    "plt.ylabel(r\"$\\log_{10}{Error}$\")\n",
    "plt.xlabel('Number of Elements')\n",
    "plt.title('Forward Error on Total Energy Variable')\n",
    "plt.legend()\n",
    "plt.savefig('reactor_v3_forward_Err.png')"
   ]
  },
  {
   "cell_type": "code",
   "execution_count": null,
   "metadata": {},
   "outputs": [],
   "source": []
  }
 ],
 "metadata": {
  "kernelspec": {
   "display_name": "Python 3",
   "language": "python",
   "name": "python3"
  },
  "language_info": {
   "codemirror_mode": {
    "name": "ipython",
    "version": 3
   },
   "file_extension": ".py",
   "mimetype": "text/x-python",
   "name": "python",
   "nbconvert_exporter": "python",
   "pygments_lexer": "ipython3",
   "version": "3.10.12"
  }
 },
 "nbformat": 4,
 "nbformat_minor": 2
}
