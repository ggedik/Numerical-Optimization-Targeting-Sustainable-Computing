{
 "cells": [
  {
   "cell_type": "code",
   "execution_count": null,
   "metadata": {},
   "outputs": [],
   "source": [
    "import numpy as np \n",
    "import sys\n",
    "import subprocess\n",
    "import os\n",
    "import matplotlib.pyplot as plt\n"
   ]
  },
  {
   "cell_type": "code",
   "execution_count": null,
   "metadata": {},
   "outputs": [],
   "source": [
    "precision_list = [ x for x in range(3,53)]\n",
    "print(precision_list)\n",
    "\n",
    "number_of_elems_base = 10000 #we will multiply this at each step and produce based on that too \n",
    "nb_test = 10"
   ]
  },
  {
   "cell_type": "code",
   "execution_count": null,
   "metadata": {},
   "outputs": [],
   "source": []
  },
  {
   "cell_type": "code",
   "execution_count": null,
   "metadata": {},
   "outputs": [],
   "source": [
    "#compile normally \n",
    "original = os.system(\"clang++-7 reactor_simulator.cpp -o reactor_simulator_double -lm\")\n",
    "#compile with verificarlo\n",
    "verif_compiled = os.system(\"verificarlo-c++ reactor_simulator.cpp -o reactor_simulator_verificarlo -lm\")"
   ]
  },
  {
   "cell_type": "code",
   "execution_count": null,
   "metadata": {},
   "outputs": [],
   "source": [
    "#execution with a backend phase\n",
    "library_name= \"libinterflop_vprec.so\"\n",
    "for elm in range (1, 1+nb_test):\n",
    "    nb_elm = number_of_elems_base * elm\n",
    "    for t in precision_list:     \n",
    "        system_call = f\"VFC_BACKENDS=\\\"{library_name} --precision-binary64={t}\\\"  ./reactor_simulator_verificarlo 1 1 0 {nb_elm}\" \n",
    "        output_file_name=f\"value_prec{t}_elm{nb_elm}.txt\"\n",
    "        with open(output_file_name, \"w\") as file:\n",
    "            result = subprocess.run(system_call, shell=True, stdout=file,stderr=subprocess.PIPE)\n",
    "\n",
    "        if result.returncode != 0:\n",
    "            print(f\"Error executing system call: {result.stderr.decode('utf-8')}\")\n",
    "        else:\n",
    "            print(f\"System call executed successfully, output written to {file}\")\n"
   ]
  },
  {
   "cell_type": "code",
   "execution_count": null,
   "metadata": {},
   "outputs": [],
   "source": [
    "def get_last_line(source_file):\n",
    "    with open(source_file, 'r') as file:\n",
    "        lines = file.readlines()\n",
    "        if lines:\n",
    "            return lines[-1]\n",
    "        else:\n",
    "            return None\n",
    "        \n",
    "def append_to_file(destination_file, line):\n",
    "    with open(destination_file, 'a') as file:\n",
    "        file.write(line+'\\n')\n",
    "\n",
    "\n",
    "def capture_last_stdout_line(command):\n",
    "    result = subprocess.run(command, shell=True, stdout=subprocess.PIPE, stderr=subprocess.PIPE, text=True)\n",
    "    \n",
    "    stdout_lines = result.stdout.strip().split('\\n')\n",
    "    if stdout_lines:\n",
    "        return stdout_lines[-1]\n",
    "    else:\n",
    "        return None"
   ]
  },
  {
   "cell_type": "code",
   "execution_count": null,
   "metadata": {},
   "outputs": [],
   "source": []
  },
  {
   "cell_type": "code",
   "execution_count": null,
   "metadata": {},
   "outputs": [],
   "source": [
    "#aggregate the results per precision \n",
    "\n",
    "for elm in range (1,1+nb_test):\n",
    "    nb_elm = number_of_elems_base * elm\n",
    "    destination_file=f\"value_elm{nb_elm}_agg.txt\"\n",
    "    for i in range(3,53):\n",
    "        source_file=f\"value_prec{i}_elm{nb_elm}.txt\"\n",
    "        last_line = get_last_line(source_file)\n",
    "        if last_line is not None:\n",
    "            append_to_file(destination_file, last_line)\n",
    "            print(f\"Last line from {source_file} appended to {destination_file}.\")\n",
    "        else:\n",
    "            print(f\"No lines found in {source_file}.\")"
   ]
  },
  {
   "cell_type": "code",
   "execution_count": null,
   "metadata": {},
   "outputs": [],
   "source": [
    "#execute the original double precision and get values\n",
    "for it in range (1,nb_test+1):\n",
    "    nb_elm = it * number_of_elems_base\n",
    "    program = f\"./reactor_simulator_double 1 1 0 {nb_elm}\"\n",
    "    output_name = f\"double_prec_elm{nb_elm}.txt\"\n",
    "\n",
    "    last_line = capture_last_stdout_line(program)\n",
    "    if last_line is not None:\n",
    "        append_to_file(output_name, last_line)\n",
    "        print(f\"Last line of stdout from command '{program}' appended to {output_name}.\")\n",
    "    else:\n",
    "        print(f\"No output captured from command '{program}'.\")\n",
    "\n",
    "   "
   ]
  },
  {
   "cell_type": "code",
   "execution_count": null,
   "metadata": {},
   "outputs": [],
   "source": [
    "#to make the difference between the double comp value and the emulated one \n",
    "x_array = np.arange(3,53)\n",
    "x_indices = range(len(x_array))\n",
    "for elm in range (1, nb_test +1):\n",
    "    nb_elm = elm * number_of_elems_base\n",
    "    filename1 = f\"double_prec_elm{nb_elm}.txt\"\n",
    "    filename2 = f\"value_elm{nb_elm}_agg.txt\"\n",
    "    orig_value = np.loadtxt(filename1, dtype=np.float64)\n",
    "    verif_array = np.loadtxt(filename2, dtype=np.float64)\n",
    "    diff = np.abs(orig_value - verif_array) \n",
    "\n",
    "    plt.figure(figsize=(15, 10))\n",
    "    plt.plot(x_array, diff, marker='o', label=f\"nb_elem = {nb_elm}\")\n",
    "    plt.axvline(x=23, color='r', linestyle='--', linewidth=2)\n",
    "    plt.xticks(x_array)\n",
    "    plt.xlabel (\"Precision t\")\n",
    "    plt.ylabel(\"Error\")\n",
    "    plt.yscale('log')\n",
    "    plt.title(f\"Acummulated Error over precision on Total Energy variable\")\n",
    "    plt.grid(True)\n",
    "    plt.legend()\n",
    "    plt.show()\n"
   ]
  },
  {
   "cell_type": "code",
   "execution_count": null,
   "metadata": {},
   "outputs": [],
   "source": [
    "#to make the difference between the double comp value and the emulated one \n",
    "x_array = np.arange(3,53)\n",
    "x_indices = range(len(x_array))\n",
    "plt.figure(figsize=(15, 10))\n",
    "for elm in range (1, nb_test +1):\n",
    "    nb_elm = elm * number_of_elems_base\n",
    "    filename1 = f\"double_prec_elm{nb_elm}.txt\"\n",
    "    filename2 = f\"value_elm{nb_elm}_agg.txt\"\n",
    "    orig_value = np.loadtxt(filename1, dtype=np.float64)\n",
    "    verif_array = np.loadtxt(filename2, dtype=np.float64)\n",
    "    diff = np.abs(orig_value - verif_array) \n",
    "\n",
    "   \n",
    "    plt.plot(x_array, diff, marker='o', linestyle ='none', label=f\"nb_elem = {nb_elm}\")\n",
    "plt.axvline(x=23, color='r', linestyle='--', linewidth=2)\n",
    "\n",
    "plt.xticks(x_array)\n",
    "plt.xlabel (\"Precision t\")\n",
    "plt.ylabel(\"Error\")\n",
    "plt.yscale('log')\n",
    "plt.title(f\"Acummulated Error over precision on Total Energy variable\")\n",
    "plt.grid(True)\n",
    "plt.legend()\n",
    "plt.show()"
   ]
  },
  {
   "cell_type": "markdown",
   "metadata": {},
   "source": []
  },
  {
   "cell_type": "markdown",
   "metadata": {},
   "source": []
  },
  {
   "cell_type": "markdown",
   "metadata": {},
   "source": []
  }
 ],
 "metadata": {
  "kernelspec": {
   "display_name": "Python 3",
   "language": "python",
   "name": "python3"
  },
  "language_info": {
   "codemirror_mode": {
    "name": "ipython",
    "version": 3
   },
   "file_extension": ".py",
   "mimetype": "text/x-python",
   "name": "python",
   "nbconvert_exporter": "python",
   "pygments_lexer": "ipython3",
   "version": "3.10.12"
  }
 },
 "nbformat": 4,
 "nbformat_minor": 2
}
