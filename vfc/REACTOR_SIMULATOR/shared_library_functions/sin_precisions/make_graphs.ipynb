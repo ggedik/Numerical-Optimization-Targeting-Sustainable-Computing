{
 "cells": [
  {
   "cell_type": "code",
   "execution_count": null,
   "metadata": {},
   "outputs": [],
   "source": [
    "import numpy as np \n",
    "import matplotlib.pyplot as plt\n",
    "import os \n",
    "import subprocess\n",
    "import time \n",
    "import signal \n",
    "import threading "
   ]
  },
  {
   "cell_type": "code",
   "execution_count": null,
   "metadata": {},
   "outputs": [],
   "source": [
    "#remove files \n",
    "precision_list = [ x for x in range(3,53)]\n",
    "\n"
   ]
  },
  {
   "cell_type": "code",
   "execution_count": null,
   "metadata": {},
   "outputs": [],
   "source": [
    "#get the dat a\n",
    "original_output = 'clgan.txt'\n",
    "filename = original_output\n",
    "data = np.loadtxt(filename, delimiter=';')\n",
    "origin_energy = data[1:].astype(np.float64)\n"
   ]
  },
  {
   "cell_type": "code",
   "execution_count": null,
   "metadata": {},
   "outputs": [],
   "source": [
    "print(origin_energy)"
   ]
  },
  {
   "cell_type": "code",
   "execution_count": null,
   "metadata": {},
   "outputs": [],
   "source": [
    "agg_err = []\n",
    "agg_err_exp=[]\n"
   ]
  },
  {
   "cell_type": "code",
   "execution_count": null,
   "metadata": {},
   "outputs": [],
   "source": [
    "for prec in precision_list: \n",
    "    exp_filename = f\"RS_cross_sin_prec{prec}.txt\"\n",
    "    exp_data = np.loadtxt(exp_filename, delimiter=';')\n",
    "    exp_origin_energy = exp_data[1:].astype(np.float64)\n",
    "    print(exp_origin_energy)\n",
    "\n",
    "    agg_err.append((np.sum(np.abs(origin_energy - exp_origin_energy, dtype= np.float64)/np.abs(origin_energy, dtype= np.float64), dtype= np.float64)))\n",
    "    \n",
    "for prec in precision_list: \n",
    "    exp_filename = f\"/home/ggedik/internship/REACTOR/REACTOR-CPP/kebnekaise_shared_func_vfc/exp_precisions/batches/exp_precisions/RS_cross_exp_prec{prec}.txt\"\n",
    "    exp_data = np.loadtxt(exp_filename, delimiter=';', max_rows= 21)\n",
    "    exp_origin_energy = exp_data[1:].astype(np.float64)\n",
    "    print(exp_origin_energy)\n",
    "#\n",
    "    agg_err_exp.append((np.sum(np.abs(origin_energy - exp_origin_energy, dtype= np.float64)/np.abs(origin_energy, dtype= np.float64), dtype= np.float64)))\n",
    "    "
   ]
  },
  {
   "cell_type": "code",
   "execution_count": null,
   "metadata": {},
   "outputs": [],
   "source": [
    "print(agg_err)\n",
    "print(agg_err_exp)"
   ]
  },
  {
   "cell_type": "code",
   "execution_count": null,
   "metadata": {},
   "outputs": [],
   "source": [
    "#plt.figure(figsize=(15,6))\n",
    "#plt.scatter(precision_list, agg_err)\n",
    "#plt.xticks(precision_list)\n",
    "#plt.yscale('log')\n",
    "#plt.ylabel(r'Error')\n",
    "#plt.xlabel('Precisions')\n",
    "#plt.title(r'Evolution of Error : $\\sum_{i=0}{\\frac{|fp64_i - prec_i|}{|fp64_i|}}$ through Precision')\n",
    "#y_ticks = np.arange(-3,1)\n",
    "#bb= [10.0**x for x in y_ticks]\n",
    "#plt.yticks(bb)\n",
    "#plt.grid()\n",
    "plt.figure(figsize=(15,6))\n",
    "plt.scatter(precision_list, agg_err, label= 'cross/sin')\n",
    "\n",
    "plt.xticks(precision_list, fontsize=16)\n",
    "plt.yscale('log')\n",
    "plt.ylabel(r'$\\log_{10}{Error}$',fontsize=16)\n",
    "plt.xlabel('Precisions')\n",
    "plt.title(r'Evolution of Error : $\\sum_{i=0}{\\frac{|fp64_i - prec_i|}{|fp64_i|}}$ through Precision', fontsize=16)\n",
    "y_ticks = np.arange(-3,1)\n",
    "bb= [10.0**x for x in y_ticks]\n",
    "plt.yticks(bb)\n",
    "plt.grid()\n",
    "plt.legend()\n",
    "\n",
    "# plt.savefig('evolution_error_cross_sin_scatter.png')\n",
    "\n",
    "plt.show()\n",
    "plt.figure(figsize=(15,6))\n",
    "\n",
    "plt.plot(precision_list, agg_err, label = 'cross/sin')\n",
    "plt.plot(precision_list, agg_err_exp, label = 'cross/exp', color='darkgreen')\n",
    "# plt.yscale('log')\n",
    "\n",
    "plt.xlabel('Precisions',fontsize=16)\n",
    "plt.xticks(precision_list,fontsize=12)\n",
    "plt.title(r'Evolution of Error : $\\sum_{i=0}{\\frac{|fp64_i - prec_i|}{|fp64_i|}}$ through Precisions',fontsize=16)\n",
    "plt.ylabel(r'${Error}$',fontsize=16)\n",
    "plt.grid()\n",
    "plt.legend()\n",
    "\n",
    "# plt.savefig('evolution_error_cross_sin_plot.png')\n",
    "\n",
    "plt.show()"
   ]
  },
  {
   "cell_type": "code",
   "execution_count": null,
   "metadata": {},
   "outputs": [],
   "source": [
    "plt.figure(figsize=(15,6))\n",
    "plt.bar(precision_list, agg_err)\n",
    "plt.xticks(precision_list)\n",
    "plt.yscale('log')\n",
    "plt.ylabel(r'Error : $\\sum_{i=0}{\\frac{|fp64_i - prec_i|}{|fp64_i|}}$')\n",
    "plt.grid()\n",
    "plt.ylabel('Precisions')\n",
    "plt.show()"
   ]
  },
  {
   "cell_type": "code",
   "execution_count": null,
   "metadata": {},
   "outputs": [],
   "source": []
  }
 ],
 "metadata": {
  "kernelspec": {
   "display_name": "Python 3",
   "language": "python",
   "name": "python3"
  },
  "language_info": {
   "codemirror_mode": {
    "name": "ipython",
    "version": 3
   },
   "file_extension": ".py",
   "mimetype": "text/x-python",
   "name": "python",
   "nbconvert_exporter": "python",
   "pygments_lexer": "ipython3",
   "version": "3.10.12"
  }
 },
 "nbformat": 4,
 "nbformat_minor": 2
}
